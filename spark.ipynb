{
 "cells": [
  {
   "cell_type": "code",
   "execution_count": 2,
   "metadata": {},
   "outputs": [],
   "source": [
    "from pyspark.sql import SparkSession"
   ]
  },
  {
   "cell_type": "code",
   "execution_count": 3,
   "metadata": {},
   "outputs": [],
   "source": [
    "#Create spark session\n",
    "spark = SparkSession.builder.appName(\"FirstApp\").getOrCreate()  #create object\n",
    "sc = spark.sparkContext"
   ]
  },
  {
   "cell_type": "code",
   "execution_count": 4,
   "metadata": {},
   "outputs": [
    {
     "data": {
      "text/html": [
       "\n",
       "            <div>\n",
       "                <p><b>SparkSession - in-memory</b></p>\n",
       "                \n",
       "        <div>\n",
       "            <p><b>SparkContext</b></p>\n",
       "\n",
       "            <p><a href=\"http://DESKTOP-TBJ51IJ:4040\">Spark UI</a></p>\n",
       "\n",
       "            <dl>\n",
       "              <dt>Version</dt>\n",
       "                <dd><code>v3.5.0</code></dd>\n",
       "              <dt>Master</dt>\n",
       "                <dd><code>local[*]</code></dd>\n",
       "              <dt>AppName</dt>\n",
       "                <dd><code>FirstApp</code></dd>\n",
       "            </dl>\n",
       "        </div>\n",
       "        \n",
       "            </div>\n",
       "        "
      ],
      "text/plain": [
       "<pyspark.sql.session.SparkSession at 0x2a6c050bed0>"
      ]
     },
     "execution_count": 4,
     "metadata": {},
     "output_type": "execute_result"
    }
   ],
   "source": [
    "spark"
   ]
  },
  {
   "cell_type": "code",
   "execution_count": 8,
   "metadata": {},
   "outputs": [],
   "source": [
    "#spark.stop()"
   ]
  },
  {
   "cell_type": "code",
   "execution_count": 7,
   "metadata": {},
   "outputs": [
    {
     "name": "stdout",
     "output_type": "stream",
     "text": [
      "+----------+--------------------+--------------------+----------+--------------------+---------+--------------------+--------------------+-----------------+--------------+------------------+--------------------+-------------------+--------------------+--------------------+------------+\n",
      "|    job_ID|                 job|            location|company_id|        company_name|work_type|    full_time_remote|        no_of_employ|no_of_application|posted_day_ago|            alumni|       Hiring_person| linkedin_followers|  hiring_person_link|         job_details|     Column1|\n",
      "+----------+--------------------+--------------------+----------+--------------------+---------+--------------------+--------------------+-----------------+--------------+------------------+--------------------+-------------------+--------------------+--------------------+------------+\n",
      "|3471657636|Data Analyst, Tri...| Delhi, Delhi, India|      NULL|           Crossover|   Remote|Full-time · Assoc...|1,001-5,000 emplo...|              200|       8 hours| 12 company alumni|                NULL|5,395,547 followers|                NULL|About the job Cro...|        NULL|\n",
      "|3471669068|Data Analyst, Tri...|New Delhi, Delhi,...|      NULL|           Crossover|   Remote|Full-time · Assoc...|1,001-5,000 emplo...|              184|       8 hours| 12 company alumni|                NULL|5,395,547 followers|                NULL|About the job Cro...|        NULL|\n",
      "|3474349934|  Data Analyst - WFH|Greater Bengaluru...|      NULL|              Uplers|   Remote|Full-time · Mid-S...|1,001-5,000 emplo...|              200|       9 hours|  3 company alumni|        Shahid Ahmad|               NULL|https://www.linke...|About the job Pro...|        NULL|\n",
      "|3472816027|        Data Analyst|Gurugram, Haryana...|      NULL|       PVAR SERVICES|  On-site|           Full-time|      1-10 employees|              200|       7 hours|              NULL|       Vartika Singh|    2,094 followers|https://www.linke...|About the job Des...|        NULL|\n",
      "|3473311511|        Data Analyst|Mohali district, ...|      NULL|Timeline Freight ...|  On-site|           Full-time|      1-10 employees|                8|    26 minutes|  1 company alumni|Manisha (Gisele S...|               NULL|https://www.linke...|About the job The...|        NULL|\n",
      "|3472504479|        Data Analyst|Gurugram, Haryana...|      NULL|              airtel|  On-site|Full-time · Entry...|10,001+ employees...|              200|      10 hours|132 company alumni|                NULL|  972,657 followers|                NULL|About the job The...|        NULL|\n",
      "|3471658510|Data Analyst, Tri...|Bengaluru, Karnat...|      NULL|           Crossover|   Remote|Full-time · Assoc...|1,001-5,000 emplo...|              200|       8 hours| 12 company alumni|                NULL|5,395,546 followers|                NULL|About the job Cro...|        NULL|\n",
      "|3472808738|   Shopify Developer|        Delhi, India|      NULL| Digital Impressions|  On-site|           Full-time|    51-200 employees|                2|       7 hours|  1 company alumni|     Rashmi Aggarwal|    1,045 followers|https://www.linke...|About the job The...|        NULL|\n",
      "|3475061559|  Database Developer|Gurugram, Haryana...|      NULL|     Kline & Company|   Hybrid|           Full-time|   201-500 employees|                7|    25 minutes|              NULL|        Duncan Lawie|   30,319 followers|https://www.linke...|About the job Are...|        NULL|\n",
      "|3473336242|   Shopify Developer|Gurugram, Haryana...|      NULL|          ADesignGuy|   Hybrid|                NULL|                NULL|          minutes|     9 minutes|              NULL|                NULL|    2,163 followers|                NULL|About the job Job...|        NULL|\n",
      "|3471883751|   Shopify Developer|Noida, Uttar Prad...|      NULL|Unitalks Technolo...|   Remote|           Full-time|     11-50 employees|               22|      10 hours|              NULL|        Yamini Gupta|    4,780 followers|https://www.linke...|About the job Cre...|        NULL|\n",
      "|3467390929|       Data Engineer|Gurugram, Haryana...|      NULL|         ReNew Power|  On-site|Full-time · Mid-S...|501-1,000 employe...|              111|       5 hours|  4 company alumni|          Neha Yadav|  198,797 followers|https://www.linke...|About the job Abo...|        NULL|\n",
      "|3472504791|       Tableau (APL)|Noida, Uttar Prad...|      NULL|            Escalent|     NULL|           Full-time|501-1,000 employe...|               36|       9 hours|  3 company alumni|                NULL|               NULL|                NULL|About the job Who...|        NULL|\n",
      "|3470730035|Data Engineer (Py...|Gurugram, Haryana...|      NULL|Mobile Programmin...|  On-site|           Full-time|1,001-5,000 emplo...|               44|      20 hours|  5 company alumni|         Ajay Tanwar|  269,349 followers|https://www.linke...|About the job Dat...|        NULL|\n",
      "|3467389209|Python Data Engineer|Hyderabad, Telang...|      NULL|               Tezra|   Remote|           Full-time|     11-50 employees|               29|       6 hours|              NULL|         Sunil Kumar|    6,311 followers|https://www.linke...|About the job Hir...|        NULL|\n",
      "|3473305093|      Zoho Developer|               India|      NULL|     Grow Your Staff|   Remote|            Contract|   201-500 employees|                4|        1 hour|              NULL|         Arjun Reddy|   99,201 followers|https://www.linke...|About the job Gro...|        NULL|\n",
      "|3467376975|Salesforce CPQ De...|Hyderabad, Telang...|      NULL|           ValueLabs|   Remote|Full-time · Mid-S...|5,001-10,000 empl...|               19|       7 hours|105 company alumni|venkatesh chittim...|               NULL|https://www.linke...|About the job Dea...|        NULL|\n",
      "|3471880568|    Golang Developer|        Delhi, India|      NULL|Optimal Virtual E...|   Remote|           Full-time|   201-500 employees|               14|      10 hours|              NULL|       Dharmesh Shah|   23,377 followers|https://www.linke...|About the job The...|        NULL|\n",
      "|3470733079|\"SAP Customer Dat...|Bengaluru, Karnat...|      NULL|Mobile Programmin...|  On-site|           Full-time|1,001-5,000 emplo...|               13|      20 hours|  5 company alumni|                NULL|  269,352 followers|                NULL|\"About the job SA...| RaaS Module|\n",
      "|3467389203| Quickbase Developer|Hyderabad, Telang...|      NULL|  Eclatprime Digital|  On-site|           Full-time|    51-200 employees|                2|       6 hours|  2 company alumni|Prithvi Pragallapati|    4,859 followers|https://www.linke...|About the job Req...|        NULL|\n",
      "+----------+--------------------+--------------------+----------+--------------------+---------+--------------------+--------------------+-----------------+--------------+------------------+--------------------+-------------------+--------------------+--------------------+------------+\n",
      "only showing top 20 rows\n",
      "\n"
     ]
    }
   ],
   "source": [
    "df = spark.read.csv(\"linkdin_Job_data.csv\", header = True)\n",
    "df.show()#shows 20 first rows"
   ]
  },
  {
   "cell_type": "markdown",
   "metadata": {},
   "source": [
    "### Cleaning Data"
   ]
  },
  {
   "cell_type": "markdown",
   "metadata": {},
   "source": [
    "Removing unessary columns"
   ]
  },
  {
   "cell_type": "markdown",
   "metadata": {},
   "source": []
  },
  {
   "cell_type": "code",
   "execution_count": null,
   "metadata": {},
   "outputs": [],
   "source": []
  }
 ],
 "metadata": {
  "kernelspec": {
   "display_name": "base",
   "language": "python",
   "name": "python3"
  },
  "language_info": {
   "codemirror_mode": {
    "name": "ipython",
    "version": 3
   },
   "file_extension": ".py",
   "mimetype": "text/x-python",
   "name": "python",
   "nbconvert_exporter": "python",
   "pygments_lexer": "ipython3",
   "version": "3.11.5"
  }
 },
 "nbformat": 4,
 "nbformat_minor": 2
}
