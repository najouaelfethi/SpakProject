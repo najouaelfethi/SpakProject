{
 "cells": [
  {
   "cell_type": "markdown",
   "metadata": {},
   "source": [
    "### Import Libraries"
   ]
  },
  {
   "cell_type": "code",
   "execution_count": 2,
   "metadata": {
    "application/vnd.databricks.v1+cell": {
     "cellMetadata": {
      "byteLimit": 2048000,
      "rowLimit": 10000
     },
     "inputWidgets": {},
     "nuid": "ed61b523-603c-40a1-979d-55620f91fefb",
     "showTitle": true,
     "title": "Import Libraries"
    }
   },
   "outputs": [],
   "source": [
    "from pyspark.sql import SparkSession\n",
    "from pyspark.sql.functions import *\n",
    "from pyspark.sql.types import IntegerType"
   ]
  },
  {
   "cell_type": "code",
   "execution_count": 3,
   "metadata": {
    "application/vnd.databricks.v1+cell": {
     "cellMetadata": {
      "byteLimit": 2048000,
      "rowLimit": 10000
     },
     "inputWidgets": {},
     "nuid": "6a4b11a5-5bb8-46a6-886e-c1b5e35d1c9b",
     "showTitle": false,
     "title": ""
    }
   },
   "outputs": [],
   "source": [
    "spark = SparkSession.builder.appName(\"firstApp\").getOrCreate()"
   ]
  },
  {
   "cell_type": "code",
   "execution_count": 4,
   "metadata": {
    "application/vnd.databricks.v1+cell": {
     "cellMetadata": {
      "byteLimit": 2048000,
      "rowLimit": 10000
     },
     "inputWidgets": {},
     "nuid": "7b79f54f-7137-4936-8067-84514c0bdb53",
     "showTitle": false,
     "title": ""
    }
   },
   "outputs": [],
   "source": [
    " df = spark.read.csv(\"linkdin_Job_data.csv\", header='True')\n"
   ]
  },
  {
   "cell_type": "code",
   "execution_count": 5,
   "metadata": {
    "application/vnd.databricks.v1+cell": {
     "cellMetadata": {
      "byteLimit": 2048000,
      "rowLimit": 10000
     },
     "inputWidgets": {},
     "nuid": "3f0b6848-e0ce-4b6e-9aba-aa2f3682bbab",
     "showTitle": false,
     "title": ""
    }
   },
   "outputs": [
    {
     "name": "stdout",
     "output_type": "stream",
     "text": [
      "+----------+--------------------+-------------------+----------+------------+---------+--------------------+--------------------+-----------------+--------------+-----------------+-------------+-------------------+------------------+--------------------+-------+\n",
      "|    job_ID|                 job|           location|company_id|company_name|work_type|    full_time_remote|        no_of_employ|no_of_application|posted_day_ago|           alumni|Hiring_person| linkedin_followers|hiring_person_link|         job_details|Column1|\n",
      "+----------+--------------------+-------------------+----------+------------+---------+--------------------+--------------------+-----------------+--------------+-----------------+-------------+-------------------+------------------+--------------------+-------+\n",
      "|3471657636|Data Analyst, Tri...|Delhi, Delhi, India|      NULL|   Crossover|   Remote|Full-time · Assoc...|1,001-5,000 emplo...|              200|       8 hours|12 company alumni|         NULL|5,395,547 followers|              NULL|About the job Cro...|   NULL|\n",
      "+----------+--------------------+-------------------+----------+------------+---------+--------------------+--------------------+-----------------+--------------+-----------------+-------------+-------------------+------------------+--------------------+-------+\n",
      "only showing top 1 row\n",
      "\n"
     ]
    }
   ],
   "source": [
    "df.show(1) #shows first 20 rows"
   ]
  },
  {
   "cell_type": "code",
   "execution_count": 6,
   "metadata": {
    "application/vnd.databricks.v1+cell": {
     "cellMetadata": {
      "byteLimit": 2048000,
      "rowLimit": 10000
     },
     "inputWidgets": {},
     "nuid": "132ca8d1-768c-4e24-a8dd-846691615e9c",
     "showTitle": false,
     "title": ""
    }
   },
   "outputs": [
    {
     "data": {
      "text/plain": [
       "7927"
      ]
     },
     "execution_count": 6,
     "metadata": {},
     "output_type": "execute_result"
    }
   ],
   "source": [
    "df.count()#numbers of rows"
   ]
  },
  {
   "cell_type": "code",
   "execution_count": 7,
   "metadata": {
    "application/vnd.databricks.v1+cell": {
     "cellMetadata": {
      "byteLimit": 2048000,
      "rowLimit": 10000
     },
     "inputWidgets": {},
     "nuid": "d2c486fe-c149-4df1-b1ad-e4ac535e05c6",
     "showTitle": false,
     "title": ""
    }
   },
   "outputs": [
    {
     "name": "stdout",
     "output_type": "stream",
     "text": [
      "root\n",
      " |-- job_ID: string (nullable = true)\n",
      " |-- job: string (nullable = true)\n",
      " |-- location: string (nullable = true)\n",
      " |-- company_id: string (nullable = true)\n",
      " |-- company_name: string (nullable = true)\n",
      " |-- work_type: string (nullable = true)\n",
      " |-- full_time_remote: string (nullable = true)\n",
      " |-- no_of_employ: string (nullable = true)\n",
      " |-- no_of_application: string (nullable = true)\n",
      " |-- posted_day_ago: string (nullable = true)\n",
      " |-- alumni: string (nullable = true)\n",
      " |-- Hiring_person: string (nullable = true)\n",
      " |-- linkedin_followers: string (nullable = true)\n",
      " |-- hiring_person_link: string (nullable = true)\n",
      " |-- job_details: string (nullable = true)\n",
      " |-- Column1: string (nullable = true)\n",
      "\n"
     ]
    }
   ],
   "source": [
    "df.printSchema()#shema of dataset"
   ]
  },
  {
   "cell_type": "markdown",
   "metadata": {},
   "source": [
    "### Cleaning Data"
   ]
  },
  {
   "cell_type": "code",
   "execution_count": 8,
   "metadata": {
    "application/vnd.databricks.v1+cell": {
     "cellMetadata": {
      "byteLimit": 2048000,
      "rowLimit": 10000
     },
     "inputWidgets": {},
     "nuid": "e3ca5397-9f5f-4ffd-b872-a6859ca58c74",
     "showTitle": true,
     "title": "Cleaning Data"
    }
   },
   "outputs": [],
   "source": [
    "#drop: column1,job_details\n",
    "df = df.drop(\"Column1\", \"company_id\")"
   ]
  },
  {
   "cell_type": "code",
   "execution_count": 9,
   "metadata": {
    "application/vnd.databricks.v1+cell": {
     "cellMetadata": {
      "byteLimit": 2048000,
      "rowLimit": 10000
     },
     "inputWidgets": {},
     "nuid": "85275fc9-88b9-48b0-82cc-8fdf95af78cb",
     "showTitle": false,
     "title": ""
    }
   },
   "outputs": [
    {
     "name": "stdout",
     "output_type": "stream",
     "text": [
      "+----------+--------------------+-------------------+------------+---------+--------------------+--------------------+-----------------+--------------+-----------------+-------------+-------------------+------------------+--------------------+\n",
      "|    job_ID|                 job|           location|company_name|work_type|    full_time_remote|        no_of_employ|no_of_application|posted_day_ago|           alumni|Hiring_person| linkedin_followers|hiring_person_link|         job_details|\n",
      "+----------+--------------------+-------------------+------------+---------+--------------------+--------------------+-----------------+--------------+-----------------+-------------+-------------------+------------------+--------------------+\n",
      "|3471657636|Data Analyst, Tri...|Delhi, Delhi, India|   Crossover|   Remote|Full-time · Assoc...|1,001-5,000 emplo...|              200|       8 hours|12 company alumni|         NULL|5,395,547 followers|              NULL|About the job Cro...|\n",
      "+----------+--------------------+-------------------+------------+---------+--------------------+--------------------+-----------------+--------------+-----------------+-------------+-------------------+------------------+--------------------+\n",
      "only showing top 1 row\n",
      "\n"
     ]
    }
   ],
   "source": [
    "df.show(1)"
   ]
  },
  {
   "cell_type": "code",
   "execution_count": 10,
   "metadata": {
    "application/vnd.databricks.v1+cell": {
     "cellMetadata": {
      "byteLimit": 2048000,
      "rowLimit": 10000
     },
     "inputWidgets": {},
     "nuid": "62155a06-1516-4560-827c-59e28d7c2980",
     "showTitle": false,
     "title": ""
    }
   },
   "outputs": [
    {
     "name": "stdout",
     "output_type": "stream",
     "text": [
      "root\n",
      " |-- job_ID: string (nullable = true)\n",
      " |-- job: string (nullable = true)\n",
      " |-- location: string (nullable = true)\n",
      " |-- company_name: string (nullable = true)\n",
      " |-- work_type: string (nullable = true)\n",
      " |-- full_time_remote: string (nullable = true)\n",
      " |-- no_of_employ: string (nullable = true)\n",
      " |-- no_of_application: string (nullable = true)\n",
      " |-- posted_day_ago: string (nullable = true)\n",
      " |-- alumni: string (nullable = true)\n",
      " |-- Hiring_person: string (nullable = true)\n",
      " |-- linkedin_followers: string (nullable = true)\n",
      " |-- hiring_person_link: string (nullable = true)\n",
      " |-- job_details: string (nullable = true)\n",
      "\n"
     ]
    }
   ],
   "source": [
    "df.printSchema()"
   ]
  },
  {
   "cell_type": "markdown",
   "metadata": {},
   "source": [
    "Convert some columns into numeric"
   ]
  },
  {
   "cell_type": "code",
   "execution_count": 11,
   "metadata": {
    "application/vnd.databricks.v1+cell": {
     "cellMetadata": {
      "byteLimit": 2048000,
      "rowLimit": 10000
     },
     "inputWidgets": {},
     "nuid": "036c553c-b0d1-45bb-8441-7bfe2d55097b",
     "showTitle": false,
     "title": ""
    }
   },
   "outputs": [],
   "source": [
    "df = df.withColumn(\"posted_day_ago\",regexp_extract(\"posted_day_ago\",r'(\\d+)',1).cast(IntegerType()))\\\n",
    ".withColumn(\"alumni\",regexp_extract(\"alumni\",r'(\\d+)',1).cast(IntegerType()))\\\n",
    ".withColumn(\"linkedin_followers\", regexp_replace(\"linkedin_followers\",r' followers', ''))\\\n",
    "\n",
    "#df.withColumn(\"no_of_employ\",regexp_extract(\"no_of_employ\",r'(\\d+)-(\\d+)',1).cast(IntegerType()))\\\n",
    "#.withColumn(\"no_of_employ\",regexp_extract(\"no_of_employ\",r'(\\d+)-(\\d+)',2).cast(IntegerType()))\n",
    "#regexp_replace(numeric_range, r'[^0-9]', '').cast(\"int\")\n"
   ]
  },
  {
   "cell_type": "code",
   "execution_count": 12,
   "metadata": {
    "application/vnd.databricks.v1+cell": {
     "cellMetadata": {
      "byteLimit": 2048000,
      "rowLimit": 10000
     },
     "inputWidgets": {},
     "nuid": "1b257ea0-f843-45eb-917a-3934136fa59d",
     "showTitle": false,
     "title": ""
    }
   },
   "outputs": [
    {
     "name": "stdout",
     "output_type": "stream",
     "text": [
      "root\n",
      " |-- job_ID: string (nullable = true)\n",
      " |-- job: string (nullable = true)\n",
      " |-- location: string (nullable = true)\n",
      " |-- company_name: string (nullable = true)\n",
      " |-- work_type: string (nullable = true)\n",
      " |-- full_time_remote: string (nullable = true)\n",
      " |-- no_of_employ: string (nullable = true)\n",
      " |-- no_of_application: string (nullable = true)\n",
      " |-- posted_day_ago: integer (nullable = true)\n",
      " |-- alumni: integer (nullable = true)\n",
      " |-- Hiring_person: string (nullable = true)\n",
      " |-- linkedin_followers: string (nullable = true)\n",
      " |-- hiring_person_link: string (nullable = true)\n",
      " |-- job_details: string (nullable = true)\n",
      "\n"
     ]
    }
   ],
   "source": [
    "df.printSchema()"
   ]
  },
  {
   "cell_type": "code",
   "execution_count": 13,
   "metadata": {
    "application/vnd.databricks.v1+cell": {
     "cellMetadata": {
      "byteLimit": 2048000,
      "rowLimit": 10000
     },
     "inputWidgets": {},
     "nuid": "2f2cf151-9fba-4439-9552-a2e2b1b5a805",
     "showTitle": false,
     "title": ""
    }
   },
   "outputs": [
    {
     "name": "stdout",
     "output_type": "stream",
     "text": [
      "+----------+--------------------+--------------------+--------------------+---------+--------------------+--------------------+-----------------+--------------+------+--------------------+------------------+--------------------+--------------------+\n",
      "|    job_ID|                 job|            location|        company_name|work_type|    full_time_remote|        no_of_employ|no_of_application|posted_day_ago|alumni|       Hiring_person|linkedin_followers|  hiring_person_link|         job_details|\n",
      "+----------+--------------------+--------------------+--------------------+---------+--------------------+--------------------+-----------------+--------------+------+--------------------+------------------+--------------------+--------------------+\n",
      "|3471657636|Data Analyst, Tri...| Delhi, Delhi, India|           Crossover|   Remote|Full-time · Assoc...|1,001-5,000 emplo...|              200|             8|    12|                NULL|         5,395,547|                NULL|About the job Cro...|\n",
      "|3471669068|Data Analyst, Tri...|New Delhi, Delhi,...|           Crossover|   Remote|Full-time · Assoc...|1,001-5,000 emplo...|              184|             8|    12|                NULL|         5,395,547|                NULL|About the job Cro...|\n",
      "|3474349934|  Data Analyst - WFH|Greater Bengaluru...|              Uplers|   Remote|Full-time · Mid-S...|1,001-5,000 emplo...|              200|             9|     3|        Shahid Ahmad|              NULL|https://www.linke...|About the job Pro...|\n",
      "|3472816027|        Data Analyst|Gurugram, Haryana...|       PVAR SERVICES|  On-site|           Full-time|      1-10 employees|              200|             7|  NULL|       Vartika Singh|             2,094|https://www.linke...|About the job Des...|\n",
      "|3473311511|        Data Analyst|Mohali district, ...|Timeline Freight ...|  On-site|           Full-time|      1-10 employees|                8|            26|     1|Manisha (Gisele S...|              NULL|https://www.linke...|About the job The...|\n",
      "|3472504479|        Data Analyst|Gurugram, Haryana...|              airtel|  On-site|Full-time · Entry...|10,001+ employees...|              200|            10|   132|                NULL|           972,657|                NULL|About the job The...|\n",
      "|3471658510|Data Analyst, Tri...|Bengaluru, Karnat...|           Crossover|   Remote|Full-time · Assoc...|1,001-5,000 emplo...|              200|             8|    12|                NULL|         5,395,546|                NULL|About the job Cro...|\n",
      "|3472808738|   Shopify Developer|        Delhi, India| Digital Impressions|  On-site|           Full-time|    51-200 employees|                2|             7|     1|     Rashmi Aggarwal|             1,045|https://www.linke...|About the job The...|\n",
      "|3475061559|  Database Developer|Gurugram, Haryana...|     Kline & Company|   Hybrid|           Full-time|   201-500 employees|                7|            25|  NULL|        Duncan Lawie|            30,319|https://www.linke...|About the job Are...|\n",
      "|3473336242|   Shopify Developer|Gurugram, Haryana...|          ADesignGuy|   Hybrid|                NULL|                NULL|          minutes|             9|  NULL|                NULL|             2,163|                NULL|About the job Job...|\n",
      "|3471883751|   Shopify Developer|Noida, Uttar Prad...|Unitalks Technolo...|   Remote|           Full-time|     11-50 employees|               22|            10|  NULL|        Yamini Gupta|             4,780|https://www.linke...|About the job Cre...|\n",
      "|3467390929|       Data Engineer|Gurugram, Haryana...|         ReNew Power|  On-site|Full-time · Mid-S...|501-1,000 employe...|              111|             5|     4|          Neha Yadav|           198,797|https://www.linke...|About the job Abo...|\n",
      "|3472504791|       Tableau (APL)|Noida, Uttar Prad...|            Escalent|     NULL|           Full-time|501-1,000 employe...|               36|             9|     3|                NULL|              NULL|                NULL|About the job Who...|\n",
      "|3470730035|Data Engineer (Py...|Gurugram, Haryana...|Mobile Programmin...|  On-site|           Full-time|1,001-5,000 emplo...|               44|            20|     5|         Ajay Tanwar|           269,349|https://www.linke...|About the job Dat...|\n",
      "|3467389209|Python Data Engineer|Hyderabad, Telang...|               Tezra|   Remote|           Full-time|     11-50 employees|               29|             6|  NULL|         Sunil Kumar|             6,311|https://www.linke...|About the job Hir...|\n",
      "|3473305093|      Zoho Developer|               India|     Grow Your Staff|   Remote|            Contract|   201-500 employees|                4|             1|  NULL|         Arjun Reddy|            99,201|https://www.linke...|About the job Gro...|\n",
      "|3467376975|Salesforce CPQ De...|Hyderabad, Telang...|           ValueLabs|   Remote|Full-time · Mid-S...|5,001-10,000 empl...|               19|             7|   105|venkatesh chittim...|              NULL|https://www.linke...|About the job Dea...|\n",
      "|3471880568|    Golang Developer|        Delhi, India|Optimal Virtual E...|   Remote|           Full-time|   201-500 employees|               14|            10|  NULL|       Dharmesh Shah|            23,377|https://www.linke...|About the job The...|\n",
      "|3470733079|\"SAP Customer Dat...|Bengaluru, Karnat...|Mobile Programmin...|  On-site|           Full-time|1,001-5,000 emplo...|               13|            20|     5|                NULL|           269,352|                NULL|\"About the job SA...|\n",
      "|3467389203| Quickbase Developer|Hyderabad, Telang...|  Eclatprime Digital|  On-site|           Full-time|    51-200 employees|                2|             6|     2|Prithvi Pragallapati|             4,859|https://www.linke...|About the job Req...|\n",
      "+----------+--------------------+--------------------+--------------------+---------+--------------------+--------------------+-----------------+--------------+------+--------------------+------------------+--------------------+--------------------+\n",
      "only showing top 20 rows\n",
      "\n"
     ]
    }
   ],
   "source": [
    "df.show()"
   ]
  },
  {
   "cell_type": "markdown",
   "metadata": {},
   "source": [
    "Handling Missing Values"
   ]
  },
  {
   "cell_type": "code",
   "execution_count": 15,
   "metadata": {
    "application/vnd.databricks.v1+cell": {
     "cellMetadata": {
      "byteLimit": 2048000,
      "rowLimit": 10000
     },
     "inputWidgets": {},
     "nuid": "93ec5b0b-4af3-480b-82bd-bb5c360e3f8f",
     "showTitle": false,
     "title": ""
    }
   },
   "outputs": [
    {
     "ename": "AttributeError",
     "evalue": "'DataFrameNaFunctions' object has no attribute 'sum'",
     "output_type": "error",
     "traceback": [
      "\u001b[1;31m---------------------------------------------------------------------------\u001b[0m",
      "\u001b[1;31mAttributeError\u001b[0m                            Traceback (most recent call last)",
      "Cell \u001b[1;32mIn[15], line 2\u001b[0m\n\u001b[0;32m      1\u001b[0m \u001b[38;5;66;03m#Missing values\u001b[39;00m\n\u001b[1;32m----> 2\u001b[0m df\u001b[38;5;241m.\u001b[39mna\u001b[38;5;241m.\u001b[39msum()\n",
      "\u001b[1;31mAttributeError\u001b[0m: 'DataFrameNaFunctions' object has no attribute 'sum'"
     ]
    }
   ],
   "source": [
    "#Missing values\n"
   ]
  },
  {
   "cell_type": "code",
   "execution_count": 18,
   "metadata": {
    "application/vnd.databricks.v1+cell": {
     "cellMetadata": {
      "byteLimit": 2048000,
      "rowLimit": 10000
     },
     "inputWidgets": {},
     "nuid": "0b1bb779-e9e1-44a1-bca7-98d33e68c65d",
     "showTitle": false,
     "title": ""
    }
   },
   "outputs": [],
   "source": [
    "#convert into view\n",
    "#df.createOrReplaceTempView(\"apps\")"
   ]
  }
 ],
 "metadata": {
  "application/vnd.databricks.v1+notebook": {
   "dashboards": [],
   "language": "python",
   "notebookMetadata": {
    "mostRecentlyExecutedCommandWithImplicitDF": {
     "commandId": 2304126658182212,
     "dataframes": [
      "_sqldf"
     ]
    },
    "pythonIndentUnit": 4
   },
   "notebookName": "Untitled Notebook 2024-02-04 14:12:06",
   "widgets": {}
  },
  "kernelspec": {
   "display_name": "base",
   "language": "python",
   "name": "python3"
  },
  "language_info": {
   "codemirror_mode": {
    "name": "ipython",
    "version": 3
   },
   "file_extension": ".py",
   "mimetype": "text/x-python",
   "name": "python",
   "nbconvert_exporter": "python",
   "pygments_lexer": "ipython3",
   "version": "3.11.5"
  }
 },
 "nbformat": 4,
 "nbformat_minor": 0
}
